{
 "cells": [
  {
   "cell_type": "code",
   "execution_count": 89,
   "metadata": {},
   "outputs": [
    {
     "name": "stdout",
     "output_type": "stream",
     "text": [
      "eligeble for voting\n"
     ]
    }
   ],
   "source": [
    "tushar=25\n",
    "\n",
    "if tushar>18:\n",
    "    print(\"eligeble for voting\")\n",
    "else:\n",
    "    print(\"not eligeble\")"
   ]
  },
  {
   "cell_type": "code",
   "execution_count": 90,
   "metadata": {},
   "outputs": [
    {
     "name": "stdout",
     "output_type": "stream",
     "text": [
      "herry 0\n",
      "herry 1\n",
      "herry 2\n",
      "herry 3\n",
      "herry 4\n"
     ]
    }
   ],
   "source": [
    "i=0\n",
    "while  i<5:\n",
    "    print(\"herry\",int(i))\n",
    "    i=i+1"
   ]
  },
  {
   "cell_type": "code",
   "execution_count": 91,
   "metadata": {},
   "outputs": [
    {
     "name": "stdout",
     "output_type": "stream",
     "text": [
      "\n"
     ]
    }
   ],
   "source": [
    "str=input(\"enter the string:\")\n",
    "print(str)"
   ]
  },
  {
   "cell_type": "code",
   "execution_count": 3,
   "metadata": {},
   "outputs": [
    {
     "name": "stdout",
     "output_type": "stream",
     "text": [
      "the number is odd\n"
     ]
    }
   ],
   "source": [
    "num=int(input(\"enter the number\"))\n",
    "if num %2==0:\n",
    "    print(\"the number is even\")\n",
    "else:\n",
    "    print(\"the number is odd\")\n"
   ]
  },
  {
   "cell_type": "code",
   "execution_count": null,
   "metadata": {},
   "outputs": [
    {
     "name": "stdout",
     "output_type": "stream",
     "text": [
      "not divisible\n"
     ]
    }
   ],
   "source": [
    "num=int(input(\"Enter the number\"))\n",
    "if num%7==0:\n",
    "    print(\"divisible\")\n",
    "else:\n",
    "    print(\"not divisible\")"
   ]
  },
  {
   "cell_type": "code",
   "execution_count": null,
   "metadata": {},
   "outputs": [
    {
     "name": "stdout",
     "output_type": "stream",
     "text": [
      "bye\n"
     ]
    }
   ],
   "source": [
    "jk=int(input(\"Enter the number\"))\n",
    "if jk%5==0:\n",
    "    print(\"hello\")\n",
    "else:\n",
    "    print(\"bye\")"
   ]
  },
  {
   "cell_type": "code",
   "execution_count": null,
   "metadata": {},
   "outputs": [
    {
     "name": "stdout",
     "output_type": "stream",
     "text": [
      "no charge\n"
     ]
    }
   ],
   "source": [
    "unit=int(input(\"enter the unit\"))\n",
    "price1=unit*5\n",
    "price2=unit*10\n",
    "result= \"no charge\" if unit<100  else (price1 if unit>=100 and unit<200  else (price2  if unit>=200 else False))\n",
    "print(result)\n",
    "# if unit<100:\n",
    "#     print(\"no charge\")\n",
    "# elif unit>=100 and unit<200: \n",
    "#     print(\"RS\",unit*5)\n",
    "# elif unit>=200:\n",
    "#     print(\"Rs\",unit*10)\n",
    "# else:\n",
    "#     print(\"please enter unit\")"
   ]
  },
  {
   "cell_type": "code",
   "execution_count": null,
   "metadata": {},
   "outputs": [
    {
     "name": "stdout",
     "output_type": "stream",
     "text": [
      "6\n"
     ]
    }
   ],
   "source": [
    "print(int(input(\"enter your number\"))%10)"
   ]
  },
  {
   "cell_type": "code",
   "execution_count": null,
   "metadata": {},
   "outputs": [
    {
     "name": "stdout",
     "output_type": "stream",
     "text": [
      "answer 5\n",
      "not divisible by 3\n"
     ]
    }
   ],
   "source": [
    "num=int(input(\"enter the number\"))\n",
    "p1=num%10\n",
    "print(\"answer\",p1)\n",
    "if p1%3==0:\n",
    "  print(\"divisible by 3\")\n",
    "else:\n",
    "    print(\"not divisible by 3\")\n",
    "\n",
    "    "
   ]
  },
  {
   "cell_type": "code",
   "execution_count": null,
   "metadata": {},
   "outputs": [
    {
     "name": "stdout",
     "output_type": "stream",
     "text": [
      "D\n"
     ]
    }
   ],
   "source": [
    "stu=int(input(\"enter the number\"))\n",
    "if stu>90:\n",
    "    print(\"A\")\n",
    "elif stu>80 and stu<=90:\n",
    "    print(\"B\")\n",
    "elif stu>=60 and stu<=80:\n",
    "    print(\"C\")\n",
    "elif stu<60:\n",
    "    print(\"D\")"
   ]
  },
  {
   "cell_type": "code",
   "execution_count": null,
   "metadata": {},
   "outputs": [
    {
     "name": "stdout",
     "output_type": "stream",
     "text": [
      "tex 5654.5\n"
     ]
    }
   ],
   "source": [
    "cost=int(input(\"enter the price\"))\n",
    "if cost>100000:\n",
    "    print(\"tex\",cost*15/100)\n",
    "elif cost>50000 and cost<100000:\n",
    "    print(\"tex\",cost*10/100)\n",
    "elif cost<=50000:\n",
    "    print(\"tex\",cost*5/100)"
   ]
  },
  {
   "cell_type": "code",
   "execution_count": null,
   "metadata": {},
   "outputs": [
    {
     "name": "stdout",
     "output_type": "stream",
     "text": [
      "['jay', 'raj', 'subham', 'dikshant']\n"
     ]
    }
   ],
   "source": [
    "name=[\"jay\",\"raj\",\"subham\",\"dikshant\"]\n",
    "print(name)\n",
    "\n",
    "print(name)\n",
    "\n"
   ]
  },
  {
   "cell_type": "code",
   "execution_count": null,
   "metadata": {},
   "outputs": [
    {
     "name": "stdout",
     "output_type": "stream",
     "text": [
      "Hello World\n",
      "winkle twinkle little star.\n",
      "How I wonder what you are.\n",
      "Up above the world so high.\n",
      "Like a diamond in the sky.\n"
     ]
    }
   ],
   "source": [
    "import os\n",
    "print(\"Hello World\")\n",
    "#repl read evaluate print loop\n",
    "# two types of modules: build and external\n",
    "\n",
    "#this program is set 1 of harry\n",
    "print('''winkle twinkle little star.\n",
    "How I wonder what you are.\n",
    "Up above the world so high.\n",
    "Like a diamond in the sky.''')"
   ]
  },
  {
   "cell_type": "code",
   "execution_count": null,
   "metadata": {},
   "outputs": [
    {
     "name": "stderr",
     "output_type": "stream",
     "text": [
      "\n",
      "    Error 305 for command:\n",
      "        open \"D:\\python1\\Abhi.mp3\"\n",
      "    Cannot specify extra characters after a string enclosed in quotation marks.\n",
      "\n",
      "    Error 263 for command:\n",
      "        close \"D:\\python1\\Abhi.mp3\"\n",
      "    The specified device is not open or is not recognized by MCI.\n",
      "Failed to close the file: \"D:\\python1\\Abhi.mp3\"\n"
     ]
    },
    {
     "ename": "PlaysoundException",
     "evalue": "\n    Error 305 for command:\n        open \"D:\\python1\\Abhi.mp3\"\n    Cannot specify extra characters after a string enclosed in quotation marks.",
     "output_type": "error",
     "traceback": [
      "\u001b[1;31m---------------------------------------------------------------------------\u001b[0m",
      "\u001b[1;31mPlaysoundException\u001b[0m                        Traceback (most recent call last)",
      "\u001b[1;32m~\\AppData\\Local\\Temp/ipykernel_11048/1755623373.py\u001b[0m in \u001b[0;36m<module>\u001b[1;34m\u001b[0m\n\u001b[0;32m      1\u001b[0m \u001b[1;32mfrom\u001b[0m \u001b[0mplaysound\u001b[0m \u001b[1;32mimport\u001b[0m \u001b[0mplaysound\u001b[0m\u001b[1;33m\u001b[0m\u001b[1;33m\u001b[0m\u001b[0m\n\u001b[1;32m----> 2\u001b[1;33m \u001b[0mplaysound\u001b[0m\u001b[1;33m(\u001b[0m\u001b[1;34m\"D:\\python1\\\\Abhi.mp3\"\u001b[0m\u001b[1;33m)\u001b[0m\u001b[1;33m\u001b[0m\u001b[1;33m\u001b[0m\u001b[0m\n\u001b[0m",
      "\u001b[1;32m~\\AppData\\Local\\Programs\\Python\\Python39\\lib\\site-packages\\playsound.py\u001b[0m in \u001b[0;36m_playsoundWin\u001b[1;34m(sound, block)\u001b[0m\n\u001b[0;32m     70\u001b[0m     \u001b[1;32mtry\u001b[0m\u001b[1;33m:\u001b[0m\u001b[1;33m\u001b[0m\u001b[1;33m\u001b[0m\u001b[0m\n\u001b[0;32m     71\u001b[0m         \u001b[0mlogger\u001b[0m\u001b[1;33m.\u001b[0m\u001b[0mdebug\u001b[0m\u001b[1;33m(\u001b[0m\u001b[1;34m'Starting'\u001b[0m\u001b[1;33m)\u001b[0m\u001b[1;33m\u001b[0m\u001b[1;33m\u001b[0m\u001b[0m\n\u001b[1;32m---> 72\u001b[1;33m         \u001b[0mwinCommand\u001b[0m\u001b[1;33m(\u001b[0m\u001b[1;34mu'open {}'\u001b[0m\u001b[1;33m.\u001b[0m\u001b[0mformat\u001b[0m\u001b[1;33m(\u001b[0m\u001b[0msound\u001b[0m\u001b[1;33m)\u001b[0m\u001b[1;33m)\u001b[0m\u001b[1;33m\u001b[0m\u001b[1;33m\u001b[0m\u001b[0m\n\u001b[0m\u001b[0;32m     73\u001b[0m         \u001b[0mwinCommand\u001b[0m\u001b[1;33m(\u001b[0m\u001b[1;34mu'play {}{}'\u001b[0m\u001b[1;33m.\u001b[0m\u001b[0mformat\u001b[0m\u001b[1;33m(\u001b[0m\u001b[0msound\u001b[0m\u001b[1;33m,\u001b[0m \u001b[1;34m' wait'\u001b[0m \u001b[1;32mif\u001b[0m \u001b[0mblock\u001b[0m \u001b[1;32melse\u001b[0m \u001b[1;34m''\u001b[0m\u001b[1;33m)\u001b[0m\u001b[1;33m)\u001b[0m\u001b[1;33m\u001b[0m\u001b[1;33m\u001b[0m\u001b[0m\n\u001b[0;32m     74\u001b[0m         \u001b[0mlogger\u001b[0m\u001b[1;33m.\u001b[0m\u001b[0mdebug\u001b[0m\u001b[1;33m(\u001b[0m\u001b[1;34m'Returning'\u001b[0m\u001b[1;33m)\u001b[0m\u001b[1;33m\u001b[0m\u001b[1;33m\u001b[0m\u001b[0m\n",
      "\u001b[1;32m~\\AppData\\Local\\Programs\\Python\\Python39\\lib\\site-packages\\playsound.py\u001b[0m in \u001b[0;36mwinCommand\u001b[1;34m(*command)\u001b[0m\n\u001b[0;32m     62\u001b[0m                                 '\\n    ' + errorBuffer.raw.decode('utf-16').rstrip('\\0'))\n\u001b[0;32m     63\u001b[0m             \u001b[0mlogger\u001b[0m\u001b[1;33m.\u001b[0m\u001b[0merror\u001b[0m\u001b[1;33m(\u001b[0m\u001b[0mexceptionMessage\u001b[0m\u001b[1;33m)\u001b[0m\u001b[1;33m\u001b[0m\u001b[1;33m\u001b[0m\u001b[0m\n\u001b[1;32m---> 64\u001b[1;33m             \u001b[1;32mraise\u001b[0m \u001b[0mPlaysoundException\u001b[0m\u001b[1;33m(\u001b[0m\u001b[0mexceptionMessage\u001b[0m\u001b[1;33m)\u001b[0m\u001b[1;33m\u001b[0m\u001b[1;33m\u001b[0m\u001b[0m\n\u001b[0m\u001b[0;32m     65\u001b[0m         \u001b[1;32mreturn\u001b[0m \u001b[0mbuf\u001b[0m\u001b[1;33m.\u001b[0m\u001b[0mvalue\u001b[0m\u001b[1;33m\u001b[0m\u001b[1;33m\u001b[0m\u001b[0m\n\u001b[0;32m     66\u001b[0m \u001b[1;33m\u001b[0m\u001b[0m\n",
      "\u001b[1;31mPlaysoundException\u001b[0m: \n    Error 305 for command:\n        open \"D:\\python1\\Abhi.mp3\"\n    Cannot specify extra characters after a string enclosed in quotation marks."
     ]
    }
   ],
   "source": [
    "#from playsound import playsound\n",
    "#playsound(\"D:\\python1\\\\Abhi.mp3\")\n"
   ]
  },
  {
   "cell_type": "code",
   "execution_count": null,
   "metadata": {},
   "outputs": [
    {
     "name": "stdout",
     "output_type": "stream",
     "text": [
      "['.git', '.vs', 'Abhi.mp3', 'env', 'gitcommends', 'jay.py', 'jk.ipynb', 'requirements.txt']\n"
     ]
    }
   ],
   "source": [
    "# to show os Directory\n",
    "# all are set\n",
    "# for python\n",
    "import os\n",
    "print(os.listdir())"
   ]
  },
  {
   "cell_type": "code",
   "execution_count": null,
   "metadata": {},
   "outputs": [
    {
     "name": "stdout",
     "output_type": "stream",
     "text": [
      "jaykrushna\n",
      "343\n",
      "44\n",
      "<class 'str'>\n",
      "<class 'int'>\n",
      "<class 'int'>\n"
     ]
    }
   ],
   "source": [
    "a=\"jaykrushna\"\n",
    "b=343\n",
    "c=44\n",
    "#print the varables.\n",
    "print(a)\n",
    "print(b)\n",
    "print(c)\n",
    "#print the type of variables\n",
    "print(type(a))\n",
    "print(type(b))\n",
    "print(type(c))"
   ]
  },
  {
   "cell_type": "code",
   "execution_count": null,
   "metadata": {},
   "outputs": [
    {
     "name": "stdout",
     "output_type": "stream",
     "text": [
      "the answer is 120\n",
      "the answer is 120\n",
      "the answer is 3276\n",
      "the answer is 1.8571428571428572\n",
      "the answer is 36\n",
      "136.0\n",
      "True\n",
      "True\n",
      "the and opertator False\n",
      "the  or opertator True\n",
      "the  not opertator False\n"
     ]
    }
   ],
   "source": [
    "a=78\n",
    "b=42 \n",
    "# arithmatic opertator\n",
    "print(\"the answer is\",78+42)\n",
    "print(\"the answer is\",a+b)\n",
    "print(\"the answer is\",a*b)\n",
    "print(\"the answer is\",a/b)\n",
    "print(\"the answer is\",a-b)\n",
    "# Assignment operator \n",
    "r=66\n",
    "r+=7\n",
    "r-=5\n",
    "r*=4\n",
    "r/=2\n",
    "print(r)\n",
    "\n",
    "#comperison operator\n",
    "y=(78>55)\n",
    "x=(78<55)\n",
    "x=78!=55\n",
    "print(y)\n",
    "print(x)\n",
    "\n",
    "#logical opertator\n",
    "b1=False\n",
    "b2=True\n",
    "print(\"the and opertator\",b1 and b2)\n",
    "print(\"the  or opertator\",b1 or b2)\n",
    "print(\"the  not opertator\",not b2)"
   ]
  },
  {
   "cell_type": "code",
   "execution_count": null,
   "metadata": {},
   "outputs": [
    {
     "name": "stdout",
     "output_type": "stream",
     "text": [
      "the sum of  the variable 90\n",
      "the reminder of varianle 22\n",
      "enter the number False\n"
     ]
    }
   ],
   "source": [
    "a=56\n",
    "b=34\n",
    "#sum of two number\n",
    "print(\"the sum of  the variable\",a+b)\n",
    "#find the reminder of number\n",
    "print(\"the reminder of varianle\",a%b)\n",
    "#the x is greter y\n",
    "x=34\n",
    "y=44\n",
    "print(\"enter the number\",x>y)"
   ]
  },
  {
   "cell_type": "code",
   "execution_count": null,
   "metadata": {},
   "outputs": [
    {
     "name": "stdout",
     "output_type": "stream",
     "text": [
      "32.0\n"
     ]
    }
   ],
   "source": [
    "a=int(input(\"enter the numer\"))\n",
    "b=int(input(\"enter the number\"))\n",
    "avg=(a+b)/2 \n",
    "# the average of two number\n",
    "print(avg)\n"
   ]
  },
  {
   "cell_type": "code",
   "execution_count": null,
   "metadata": {},
   "outputs": [
    {
     "name": "stdout",
     "output_type": "stream",
     "text": [
      "9\n"
     ]
    }
   ],
   "source": [
    "x=int(input(\"enter the number\"))\n",
    "squre=x*x\n",
    "print(squre)"
   ]
  },
  {
   "cell_type": "code",
   "execution_count": null,
   "metadata": {},
   "outputs": [
    {
     "name": "stdout",
     "output_type": "stream",
     "text": [
      "good morningthats cool ieaa\n",
      "gan\n",
      "nes\n",
      "eo\n"
     ]
    }
   ],
   "source": [
    "raj=\"good morning\"\n",
    "jay=\"thats cool ieaa\"\n",
    "# concat two string\n",
    "print(raj+jay)\n",
    "# string slicng\n",
    "suri=\"ganesh\"\n",
    "print(suri[0:3])\n",
    "print(suri[-4:-1])\n",
    "# skip the Value\n",
    "jk=\"helloworld\"\n",
    "print(jk[1:5:3])"
   ]
  },
  {
   "cell_type": "code",
   "execution_count": null,
   "metadata": {},
   "outputs": [
    {
     "name": "stdout",
     "output_type": "stream",
     "text": [
      "36\n",
      "True\n",
      "2\n",
      "Hello my name is jaykrusna prajapati\n",
      "14\n",
      "hello my name is jaykrusna prajapati\n",
      "hello rgrg gwrw \n",
      "dfef gewtwte\n"
     ]
    }
   ],
   "source": [
    "#string functions\n",
    "string=\"hello my name is jaykrusna prajapati\"\n",
    "print(len(string)) #check the string length\n",
    "\n",
    "print(string.endswith(\"prajapati\"))#the stirng end with the words\n",
    "print(string.count('j'))#count the charecter or string how many in the program.\n",
    "print(string.capitalize())#capitaliza the string\n",
    "print(string.find(\"is\")) #find the keyword \n",
    "print(string.replace(\"jk\",\"jaykrushna\"))#replace the string values\n",
    "\n",
    "story=\"hello rgrg gwrw \\ndfef gewtwte\"#escape sequence\n",
    "print(story)"
   ]
  },
  {
   "cell_type": "code",
   "execution_count": null,
   "metadata": {},
   "outputs": [
    {
     "name": "stdout",
     "output_type": "stream",
     "text": [
      "caracter ot found\n"
     ]
    }
   ],
   "source": [
    "str=\"astkamalmanpadamprakas\"\n",
    "str2=\"x\"\n",
    "a=0\n",
    "if str2 in str:\n",
    "\n",
    "    for i in str:\n",
    "\n",
    "        if str2 == i:\n",
    "            a=a+1\n",
    "    print(f\"caracter is are {a} times\")\n",
    "\n",
    "else:\n",
    "    print(\"caracter ot found\")"
   ]
  },
  {
   "cell_type": "code",
   "execution_count": null,
   "metadata": {},
   "outputs": [
    {
     "name": "stdout",
     "output_type": "stream",
     "text": [
      "good afternoon,jk\n"
     ]
    }
   ],
   "source": [
    "#1.to display the good afternoon\n",
    "v1=input(\"enter the name\")\n",
    "print(\"good afternoon,\"+v1)"
   ]
  },
  {
   "cell_type": "code",
   "execution_count": null,
   "metadata": {},
   "outputs": [
    {
     "name": "stdout",
     "output_type": "stream",
     "text": [
      "dear jay\n",
      "you are selcted\n",
      "date: 4 november\n"
     ]
    }
   ],
   "source": [
    "#this program is use for templete\n",
    "letter='''dear <|NAME|>\n",
    "you are selcted\n",
    "date: <|DATE|>'''\n",
    "name=input(\"enter the name:\")\n",
    "date=input(\"enter the date\")\n",
    "\n",
    "letter=letter.replace(\"<|NAME|>\",name)\n",
    "letter=letter.replace(\"<|DATE|>\",date)\n",
    "print(letter)"
   ]
  },
  {
   "cell_type": "code",
   "execution_count": null,
   "metadata": {},
   "outputs": [
    {
     "name": "stdout",
     "output_type": "stream",
     "text": [
      "27\n"
     ]
    }
   ],
   "source": [
    "#to find double spaces\n",
    "str=\"hello my name is jaykrushna  how are you \"\n",
    "doubleSpaces=str.find(\"  \")\n",
    "print(doubleSpaces)"
   ]
  },
  {
   "cell_type": "code",
   "execution_count": null,
   "metadata": {},
   "outputs": [
    {
     "name": "stdout",
     "output_type": "stream",
     "text": [
      "hello i am tushar prajapati how are you\n",
      " i am jaykrushna prajapati ,thank you ! Dear for visiting my web site!\n",
      "i am jaykrushna prajapati ,\n",
      "\tthank you ! \n",
      "Dear for visiting my web site!\n"
     ]
    }
   ],
   "source": [
    "#to convert double spaces itto single spaces\n",
    "ss=\"hello i am tushar prajapati  how are  you\"\n",
    "ss=ss.replace(\"  \",\" \")\n",
    "print(ss)\n",
    "#print the letter in formatted letter\n",
    "letter=\" i am jaykrushna prajapati ,thank you ! Dear for visiting my web site!\"\n",
    "print(letter)\n",
    "letter1=\"i am jaykrushna prajapati ,\\n\\tthank you ! \\nDear for visiting my web site!\"\n",
    "print(letter1)"
   ]
  },
  {
   "cell_type": "code",
   "execution_count": 9,
   "metadata": {},
   "outputs": [
    {
     "name": "stdout",
     "output_type": "stream",
     "text": [
      "not found\n"
     ]
    }
   ],
   "source": [
    "jk=\"jaykrushna prajapati\"\n",
    "jk2=\"j\"\n",
    "r=0\n",
    "if jk2 in jk:\n",
    "    for i in jk:\n",
    "\n",
    "        if jk2 == i:\n",
    "            r=r+1\n",
    "    print(f\"the chracter  {r} times found\")\n",
    "         \n",
    "else:\n",
    "    print(\"not found\")"
   ]
  },
  {
   "cell_type": "code",
   "execution_count": 10,
   "metadata": {},
   "outputs": [
    {
     "name": "stdout",
     "output_type": "stream",
     "text": [
      "this program is use for count length\n",
      "36\n"
     ]
    }
   ],
   "source": [
    "tr1=\"this program is use for count length\"\n",
    "t=0\n",
    "print(tr1)\n",
    "for i in tr1:\n",
    "    t=t+1\n",
    "\n",
    "print(t)\n"
   ]
  },
  {
   "cell_type": "code",
   "execution_count": 116,
   "metadata": {},
   "outputs": [
    {
     "name": "stdout",
     "output_type": "stream",
     "text": [
      "string is located at 6 position\n"
     ]
    }
   ],
   "source": [
    "f1=\"jaykrekrushna\"\n",
    "f2=\"kru\"\n",
    "if f2 in f1:\n",
    "    for i in range(len(f1)):\n",
    "        if f1[i]==f2[0] and f1[i+1]==f2[1] and f1[i+2]==f2[2]:\n",
    "            print(f\"string is located at {i} position\")\n",
    "\n",
    "else: \n",
    "    print(False)\n",
    "# listen\n",
    "# silent\n"
   ]
  },
  {
   "cell_type": "code",
   "execution_count": 123,
   "metadata": {},
   "outputs": [
    {
     "name": "stdout",
     "output_type": "stream",
     "text": [
      "jay\n"
     ]
    }
   ],
   "source": [
    "y1=input(\"enter the string:\")#heart\n",
    "y2=input(\"enter the string\")#earth\n",
    "c1=0\n",
    "c2=0\n",
    "if len(y1)==len(y2):\n",
    "    for i in y1:\n",
    "        if i in y2:\n",
    "            c1+=1\n",
    "        \n",
    "    for i in y2:\n",
    "        if i in y1:\n",
    "            c2+=1\n",
    "    \n",
    "    if c1==c2:\n",
    "        print(\"both strings are anagrams\")\n",
    "    else:\n",
    "        print(\"both strings are not anagrams\")\n",
    "        \n",
    "else:\n",
    "        print(\"both strings are not anagrams\")\n"
   ]
  },
  {
   "cell_type": "code",
   "execution_count": 56,
   "metadata": {},
   "outputs": [
    {
     "name": "stdout",
     "output_type": "stream",
     "text": [
      "rahsut\n"
     ]
    }
   ],
   "source": [
    "m1=\"tushar\"\n",
    "\n",
    "# print(m1)\n",
    "m2=m1[::-1]\n",
    "print(m2)\n",
    "# c=len(m1)-1\n",
    "# for i in range(len(m1)-1,-1,-1):\n",
    "#     m2=m2+m1[i]\n",
    "\n",
    "# while c!=-1:\n",
    "#     m2=m2+m1[c]\n",
    "#     c=c-1\n",
    "\n",
    "if m1==m2:\n",
    "    print(\"string is palendrom\")\n",
    "\n",
    "else:\n",
    "    print(\"string is not palendrom\")\n",
    "\n",
    "    \n",
    "        "
   ]
  },
  {
   "cell_type": "code",
   "execution_count": 14,
   "metadata": {},
   "outputs": [
    {
     "name": "stdout",
     "output_type": "stream",
     "text": [
      "jakyrushna\n"
     ]
    }
   ],
   "source": [
    "a=\"jakrushna\"\n",
    "b=\"y\"\n",
    "element=int(input(\"enter the element\"))\n",
    "c=a[0:element]+b+a[element:]\n",
    "print(c)\n",
    "    "
   ]
  },
  {
   "cell_type": "code",
   "execution_count": 1,
   "metadata": {},
   "outputs": [
    {
     "name": "stdout",
     "output_type": "stream",
     "text": [
      "jaykrushna\n"
     ]
    }
   ],
   "source": [
    "a=\"jakrushna\"\n",
    "b=\"y\"\n",
    "# element=int(input(\"enter the element\"))\n",
    "c=a[0:2]+b+a[2:]\n",
    "print(c)\n",
    "    "
   ]
  }
 ],
 "metadata": {
  "interpreter": {
   "hash": "189da287982dcffea2c1bc0393da3e934883dd5a6f3acb086a80deec44fb1961"
  },
  "kernelspec": {
   "display_name": "Python 3.9.2 64-bit",
   "language": "python",
   "name": "python3"
  },
  "language_info": {
   "codemirror_mode": {
    "name": "ipython",
    "version": 3
   },
   "file_extension": ".py",
   "mimetype": "text/x-python",
   "name": "python",
   "nbconvert_exporter": "python",
   "pygments_lexer": "ipython3",
   "version": "3.9.2"
  },
  "orig_nbformat": 4
 },
 "nbformat": 4,
 "nbformat_minor": 2
}
