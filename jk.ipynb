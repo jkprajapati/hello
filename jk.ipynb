{
 "cells": [
  {
   "cell_type": "code",
   "execution_count": 2,
   "metadata": {},
   "outputs": [
    {
     "name": "stdout",
     "output_type": "stream",
     "text": [
      "eligeble for voting\n"
     ]
    }
   ],
   "source": [
    "tushar=25\n",
    "\n",
    "if tushar>18:\n",
    "    print(\"eligeble for voting\")\n",
    "else:\n",
    "    print(\"not eligeble\")"
   ]
  },
  {
   "cell_type": "code",
   "execution_count": 7,
   "metadata": {},
   "outputs": [
    {
     "name": "stdout",
     "output_type": "stream",
     "text": [
      "the number is odd\n"
     ]
    }
   ],
   "source": [
    "num=int(input(\"enter the number\"))\n",
    "if num %2==0:\n",
    "    print(\"the number is even\")\n",
    "else:\n",
    "    print(\"the number is odd\")\n"
   ]
  },
  {
   "cell_type": "code",
   "execution_count": 19,
   "metadata": {},
   "outputs": [
    {
     "name": "stdout",
     "output_type": "stream",
     "text": [
      "not divisible\n"
     ]
    }
   ],
   "source": [
    "num=int(input(\"Enter the number\"))\n",
    "if num%7==0:\n",
    "    print(\"divisible\")\n",
    "else:\n",
    "    print(\"not divisible\")"
   ]
  },
  {
   "cell_type": "code",
   "execution_count": 41,
   "metadata": {},
   "outputs": [
    {
     "name": "stdout",
     "output_type": "stream",
     "text": [
      "bye\n"
     ]
    }
   ],
   "source": [
    "jk=int(input(\"Enter the number\"))\n",
    "if jk%5==0:\n",
    "    print(\"hello\")\n",
    "else:\n",
    "    print(\"bye\")"
   ]
  },
  {
   "cell_type": "code",
   "execution_count": 32,
   "metadata": {},
   "outputs": [
    {
     "name": "stdout",
     "output_type": "stream",
     "text": [
      "no charge\n"
     ]
    }
   ],
   "source": [
    "unit=int(input(\"enter the unit\"))\n",
    "price1=unit*5\n",
    "price2=unit*10\n",
    "result= \"no charge\" if unit<100  else (price1 if unit>=100 and unit<200  else (price2  if unit>=200 else False))\n",
    "print(result)\n",
    "# if unit<100:\n",
    "#     print(\"no charge\")\n",
    "# elif unit>=100 and unit<200: \n",
    "#     print(\"RS\",unit*5)\n",
    "# elif unit>=200:\n",
    "#     print(\"Rs\",unit*10)\n",
    "# else:\n",
    "#     print(\"please enter unit\")"
   ]
  },
  {
   "cell_type": "code",
   "execution_count": 33,
   "metadata": {},
   "outputs": [
    {
     "name": "stdout",
     "output_type": "stream",
     "text": [
      "6\n"
     ]
    }
   ],
   "source": [
    "print(int(input(\"enter your number\"))%10)"
   ]
  },
  {
   "cell_type": "code",
   "execution_count": 47,
   "metadata": {},
   "outputs": [
    {
     "name": "stdout",
     "output_type": "stream",
     "text": [
      "answer 5\n",
      "not divisible by 3\n"
     ]
    }
   ],
   "source": [
    "num=int(input(\"enter the number\"))\n",
    "p1=num%10\n",
    "print(\"answer\",p1)\n",
    "if p1%3==0:\n",
    "  print(\"divisible by 3\")\n",
    "else:\n",
    "    print(\"not divisible by 3\")\n",
    "\n",
    "    "
   ]
  },
  {
   "cell_type": "code",
   "execution_count": 50,
   "metadata": {},
   "outputs": [
    {
     "name": "stdout",
     "output_type": "stream",
     "text": [
      "D\n"
     ]
    }
   ],
   "source": [
    "stu=int(input(\"enter the number\"))\n",
    "if stu>90:\n",
    "    print(\"A\")\n",
    "elif stu>80 and stu<=90:\n",
    "    print(\"B\")\n",
    "elif stu>=60 and stu<=80:\n",
    "    print(\"C\")\n",
    "elif stu<60:\n",
    "    print(\"D\")"
   ]
  },
  {
   "cell_type": "code",
   "execution_count": 54,
   "metadata": {},
   "outputs": [
    {
     "name": "stdout",
     "output_type": "stream",
     "text": [
      "tex 5654.5\n"
     ]
    }
   ],
   "source": [
    "cost=int(input(\"enter the price\"))\n",
    "if cost>100000:\n",
    "    print(\"tex\",cost*15/100)\n",
    "elif cost>50000 and cost<100000:\n",
    "    print(\"tex\",cost*10/100)\n",
    "elif cost<=50000:\n",
    "    print(\"tex\",cost*5/100)"
   ]
  },
  {
   "cell_type": "code",
   "execution_count": 56,
   "metadata": {},
   "outputs": [
    {
     "name": "stdout",
     "output_type": "stream",
     "text": [
      "['jay', 'raj', 'subham', 'dikshant']\n"
     ]
    }
   ],
   "source": [
    "name=[\"jay\",\"raj\",\"subham\",\"dikshant\"]\n",
    "print(name)\n",
    "\n"
   ]
  },
  {
   "cell_type": "code",
   "execution_count": 2,
   "metadata": {},
   "outputs": [
    {
     "name": "stdout",
     "output_type": "stream",
     "text": [
      "Hello World\n"
     ]
    }
   ],
   "source": [
    "import os\n",
    "print(\"Hello World\")\n",
    "#repl read evaluate print loop\n"
   ]
  }
 ],
 "metadata": {
  "interpreter": {
   "hash": "189da287982dcffea2c1bc0393da3e934883dd5a6f3acb086a80deec44fb1961"
  },
  "kernelspec": {
   "display_name": "Python 3.9.2 64-bit",
   "language": "python",
   "name": "python3"
  },
  "language_info": {
   "codemirror_mode": {
    "name": "ipython",
    "version": 3
   },
   "file_extension": ".py",
   "mimetype": "text/x-python",
   "name": "python",
   "nbconvert_exporter": "python",
   "pygments_lexer": "ipython3",
   "version": "3.9.2"
  },
  "orig_nbformat": 4
 },
 "nbformat": 4,
 "nbformat_minor": 2
}
