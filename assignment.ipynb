{
 "cells": [
  {
   "cell_type": "code",
   "execution_count": 1,
   "metadata": {},
   "outputs": [
    {
     "name": "stdout",
     "output_type": "stream",
     "text": [
      "the number is positive\n"
     ]
    }
   ],
   "source": [
    "f1=int(input(\"enter the number\"))\n",
    "if f1>0:\n",
    "    print(\"the number is positive\")\n",
    "elif f1<0:\n",
    "    print(\"the number is negetive\")\n",
    "else:\n",
    "    print(\"the number is zero\")\n",
    "    "
   ]
  },
  {
   "cell_type": "code",
   "execution_count": 5,
   "metadata": {},
   "outputs": [
    {
     "name": "stdout",
     "output_type": "stream",
     "text": [
      "1\n",
      "2\n",
      "3\n",
      "4\n",
      "5\n",
      "6\n",
      "7\n",
      "8\n",
      "9\n",
      "10\n",
      "11\n",
      "12\n",
      "13\n",
      "14\n",
      "15\n",
      "16\n",
      "17\n",
      "18\n",
      "19\n",
      "20\n",
      "21\n",
      "22\n",
      "23\n",
      "24\n",
      "25\n",
      "26\n",
      "27\n",
      "28\n",
      "29\n",
      "30\n",
      "31\n",
      "32\n",
      "33\n",
      "34\n",
      "35\n",
      "36\n",
      "37\n",
      "38\n",
      "39\n",
      "40\n",
      "41\n",
      "42\n",
      "43\n",
      "44\n",
      "45\n",
      "46\n",
      "47\n",
      "48\n",
      "49\n",
      "50\n"
     ]
    }
   ],
   "source": [
    "i=1\n",
    "# while i<10:\n",
    "#     i=i+1\n",
    "#     print(\"jaykrushna\",)\n",
    "while i<=50:\n",
    "    print(i)\n",
    "    i=i+1\n",
    "    "
   ]
  },
  {
   "cell_type": "code",
   "execution_count": 8,
   "metadata": {},
   "outputs": [
    {
     "name": "stdout",
     "output_type": "stream",
     "text": [
      "Banana\n",
      "cherry\n",
      "watermelon\n",
      "pineple\n",
      "grapes\n"
     ]
    }
   ],
   "source": [
    "i=0\n",
    "# while i<5:\n",
    "#     print(\"harry\" ,i)\n",
    "#     i=i+1\n",
    "fruits=[\"Banana\",\"cherry\",\"watermelon\",\"pineple\",\"grapes\"]\n",
    "while i<len(fruits):\n",
    "    print(fruits[i])\n",
    "    i=i+1"
   ]
  },
  {
   "cell_type": "code",
   "execution_count": 28,
   "metadata": {},
   "outputs": [
    {
     "ename": "IndentationError",
     "evalue": "expected an indented block (Temp/ipykernel_4828/535490602.py, line 8)",
     "output_type": "error",
     "traceback": [
      "\u001b[1;36m  File \u001b[1;32m\"C:\\Users\\91814\\AppData\\Local\\Temp/ipykernel_4828/535490602.py\"\u001b[1;36m, line \u001b[1;32m8\u001b[0m\n\u001b[1;33m    print(f\"{r1}x{i}={r1*i}\")\u001b[0m\n\u001b[1;37m    ^\u001b[0m\n\u001b[1;31mIndentationError\u001b[0m\u001b[1;31m:\u001b[0m expected an indented block\n"
     ]
    }
   ],
   "source": [
    "    for i in range(1,10):\n",
    "        if i==5:\n",
    "            break #break the values\n",
    "        print(i)\n",
    "\n"
   ]
  },
  {
   "cell_type": "code",
   "execution_count": 20,
   "metadata": {},
   "outputs": [
    {
     "name": "stdout",
     "output_type": "stream",
     "text": [
      "0\n",
      "1\n",
      "2\n",
      "3\n",
      "4\n",
      "5\n",
      "6\n",
      "8\n",
      "9\n"
     ]
    }
   ],
   "source": [
    "for i in range(10):\n",
    "    if i==7:\n",
    "        continue #use for skip values\n",
    "    print(i)"
   ]
  },
  {
   "cell_type": "code",
   "execution_count": 29,
   "metadata": {},
   "outputs": [
    {
     "name": "stdout",
     "output_type": "stream",
     "text": [
      "6x1=6\n",
      "6x2=12\n",
      "6x3=18\n",
      "6x4=24\n",
      "6x5=30\n",
      "6x6=36\n",
      "6x7=42\n",
      "6x8=48\n",
      "6x9=54\n",
      "6x10=60\n"
     ]
    }
   ],
   "source": [
    "jay=int(input(\"enter the  number:\"))\n",
    "for i in range(1,11):\n",
    "    print(f\"{jay}x{i}={jay*i}\")#table of any number"
   ]
  },
  {
   "cell_type": "code",
   "execution_count": 34,
   "metadata": {},
   "outputs": [
    {
     "name": "stdout",
     "output_type": "stream",
     "text": [
      "heyy muskan\n",
      "heyy mahesh\n"
     ]
    }
   ],
   "source": [
    "f1=[\"jay\",\"rahul\",\"muskan\",\"sohil\",\"mahesh\"]\n",
    "for i in f1:\n",
    "    if i.startswith(\"m\"):\n",
    "        print(\"heyy\",i)"
   ]
  },
  {
   "cell_type": "code",
   "execution_count": 1,
   "metadata": {},
   "outputs": [
    {
     "name": "stdout",
     "output_type": "stream",
     "text": [
      "5x1=5\n",
      "5x2=10\n",
      "5x3=15\n",
      "5x4=20\n",
      "5x5=25\n",
      "5x6=30\n",
      "5x7=35\n",
      "5x8=40\n",
      "5x9=45\n",
      "5x10=50\n"
     ]
    }
   ],
   "source": [
    "i=1\n",
    "e=int(input(\"enter the number:\"))\n",
    "while i<11:\n",
    "    print(f\"{e}x{i}={i*e}\")\n",
    "    i=i+1"
   ]
  },
  {
   "cell_type": "code",
   "execution_count": 4,
   "metadata": {},
   "outputs": [
    {
     "name": "stdout",
     "output_type": "stream",
     "text": [
      "the number is not prime\n"
     ]
    }
   ],
   "source": [
    "# prime number.\n",
    "p1=int(input(\"enter the number:\"))\n",
    "prime=True\n",
    "for i in range(2,p1):\n",
    "    if(p1%i==0):\n",
    "        prime=False\n",
    "        break\n",
    "if prime:\n",
    "    print(\"the number is prime\")\n",
    "else:\n",
    "    print(\"the number is not prime\")\n"
   ]
  },
  {
   "cell_type": "code",
   "execution_count": 17,
   "metadata": {},
   "outputs": [
    {
     "name": "stdout",
     "output_type": "stream",
     "text": [
      "the fectorial number 5 is 120\n"
     ]
    }
   ],
   "source": [
    "# fectorial\n",
    "num=int(input(\"enter the number:\"))\n",
    "fect1=1\n",
    "for i in range(1,num+1):\n",
    "    fect1=fect1*i\n",
    "print(f\"the fectorial number {num} is {fect1}\")\n",
    "\n"
   ]
  },
  {
   "cell_type": "code",
   "execution_count": 9,
   "metadata": {},
   "outputs": [
    {
     "name": "stdout",
     "output_type": "stream",
     "text": [
      "$\n",
      "$$\n",
      "$$$\n",
      "$$$$\n"
     ]
    }
   ],
   "source": [
    "# simple pettern\n",
    "n=4\n",
    "for i in range(4):\n",
    "    print(\"$\"*(i+1))"
   ]
  },
  {
   "cell_type": "code",
   "execution_count": 19,
   "metadata": {},
   "outputs": [
    {
     "name": "stdout",
     "output_type": "stream",
     "text": [
      " * \n",
      " *** \n",
      " ***** \n",
      " ******* \n"
     ]
    }
   ],
   "source": [
    "n=4\n",
    "for i in range(4):\n",
    "    print(\"\" * (n-i-1), end=\" \")\n",
    "    print(\"*\" * (2*i+1), end=\" \")\n",
    "    print(\"\" * (n-i-1))"
   ]
  }
 ],
 "metadata": {
  "interpreter": {
   "hash": "db65376c4fb625def2f7b3c544c982f469f68b4f92773fb7ef96fd57e064bbfe"
  },
  "kernelspec": {
   "display_name": "Python 3.9.7 ('base')",
   "language": "python",
   "name": "python3"
  },
  "language_info": {
   "codemirror_mode": {
    "name": "ipython",
    "version": 3
   },
   "file_extension": ".py",
   "mimetype": "text/x-python",
   "name": "python",
   "nbconvert_exporter": "python",
   "pygments_lexer": "ipython3",
   "version": "3.9.7"
  },
  "orig_nbformat": 4
 },
 "nbformat": 4,
 "nbformat_minor": 2
}
